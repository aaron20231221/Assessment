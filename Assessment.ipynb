{
  "metadata": {
    "language_info": {
      "codemirror_mode": {
        "name": "python",
        "version": 3
      },
      "file_extension": ".py",
      "mimetype": "text/x-python",
      "name": "python",
      "nbconvert_exporter": "python",
      "pygments_lexer": "ipython3",
      "version": "3.8"
    },
    "kernelspec": {
      "name": "python",
      "display_name": "Python (Pyodide)",
      "language": "python"
    }
  },
  "nbformat_minor": 4,
  "nbformat": 4,
  "cells": [
    {
      "cell_type": "markdown",
      "source": "# My Jupyter Notebook on Watson Studio #",
      "metadata": {}
    },
    {
      "cell_type": "markdown",
      "source": "__Soe Min Htet (Aaron)__",
      "metadata": {}
    },
    {
      "cell_type": "markdown",
      "source": "_I am interested in Data Science, nevertheless still as a beginner because I am enthusiastic to try Data Analytics or Data Science roles in a company which is applied for my job._",
      "metadata": {}
    },
    {
      "cell_type": "markdown",
      "source": "### A Simple Output of \"Hello World\" ###",
      "metadata": {}
    },
    {
      "cell_type": "code",
      "source": "print (\"Hello World\")",
      "metadata": {
        "trusted": true
      },
      "execution_count": 1,
      "outputs": [
        {
          "name": "stdout",
          "text": "Hello World\n",
          "output_type": "stream"
        }
      ]
    },
    {
      "cell_type": "markdown",
      "source": "| Category | Quantity | Price |\n| --- | --- | --- |\n| Apple | 1 | 1.31dollars |\n| Orange | 1 | 1.41dollars |",
      "metadata": {}
    }
  ]
}